{
 "cells": [
  {
   "cell_type": "markdown",
   "id": "5c59b7f6",
   "metadata": {},
   "source": [
    "# Machine Learning  Evaluation Metrics"
   ]
  },
  {
   "cell_type": "code",
   "execution_count": 5,
   "id": "5b511490",
   "metadata": {},
   "outputs": [],
   "source": [
    "# Import libraries\n",
    "import warnings\n",
    "warnings.filterwarnings('ignore')\n",
    "from pandas import read_csv\n",
    "# Machine Learning Module\n",
    "from sklearn.model_selection import train_test_split\n",
    "# Machine Learning Algorithm (classifier, model)\n",
    "from sklearn.linear_model import LogisticRegression\n",
    "# ML metrics\n",
    "from sklearn.metrics import confusion_matrix, classification_report\n",
    "filename = './datasets/pima-indians-diabetes.data.csv'\n",
    "col_names = ['preg', 'plas', 'pres', 'skin', 'test', 'mass', 'pedi', 'age', 'class']\n",
    "data = read_csv(filename, names=col_names)"
   ]
  },
  {
   "cell_type": "code",
   "execution_count": 41,
   "id": "b47cfb18",
   "metadata": {},
   "outputs": [
    {
     "name": "stdout",
     "output_type": "stream",
     "text": [
      "Training completed successfully!\n",
      "Confusion Matrix\n",
      "----------------\n",
      "[[130  17]\n",
      " [ 34  50]]\n",
      "Acc: 78.0% | Precision: 75.0% |Recall: 60.0% | Specificity: 88.0% | F1_Score: 66.0%\n",
      "Accuracy Score: 78.0\n",
      "Precision Score: 75.0\n",
      "Recall Score: 60.0\n",
      "f1-Score: 66.0\n",
      "AUC: 74.0\n"
     ]
    }
   ],
   "source": [
    "from sklearn.metrics import precision_score, accuracy_score, recall_score, f1_score, roc_auc_score\n",
    "# Define metrics function\n",
    "def fct_metrics(TN, FP, FN, TP):\n",
    "    acc = (TP+TN)/(TP+TN+FP+FN)\n",
    "    prec = TP / (TP+FP)\n",
    "    rec = TP/(TP+FN)\n",
    "    spec = TN/(TN+FP)\n",
    "    f1_score = (2 * prec * rec)/(prec + rec)\n",
    "    print(f'Acc: {acc.round(2)*100.0}% | Precision: {prec.round(2)*100.0}% |Recall: {rec.round(2)*100.0}% | Specificity: {spec.round(2)*100.0}% | F1_Score: {f1_score.round(2)*100.0}%')\n",
    "# Get values from dataframe\n",
    "array = data.values\n",
    "# Get inputs (all variables except the class)\n",
    "X = array[ : , 0:-1]\n",
    "# Get the output (class)\n",
    "Y = array[ : , -1]\n",
    "test_proportion = 0.30\n",
    "seed = 7 # Controler le fait aleatoire dans la division de donnees\n",
    "X_train, X_test, Y_train, Y_test = train_test_split(X, Y, test_size = test_proportion\n",
    "                                                    , random_state = seed)\n",
    "# Training\n",
    "model = LogisticRegression(solver='newton-cg')\n",
    "model.fit(X_train, Y_train)\n",
    "print(\"Training completed successfully!\")\n",
    "predicted = model.predict(X_test)\n",
    "matrix = confusion_matrix(Y_test, predicted)\n",
    "print(f'Confusion Matrix\\n----------------\\n{matrix}')\n",
    "TN, FP, FN, TP = matrix.ravel()\n",
    "fct_metrics(TN, FP, FN, TP)\n",
    "print(f\"Accuracy Score: {accuracy_score(Y_test, predicted).round(2)*100.0}\")\n",
    "print(f\"Precision Score: {precision_score(Y_test, predicted, average='binary').round(2)*100.0}\")\n",
    "print(f\"Recall Score: {recall_score(Y_test, predicted, average='binary').round(2)*100.0}\")\n",
    "print(f\"f1-Score: {f1_score(Y_test, predicted, average='binary').round(2)*100.0}\")\n",
    "print(f\"AUC: {roc_auc_score(Y_test, predicted).round(2)*100.0}\")\n",
    "\n"
   ]
  },
  {
   "cell_type": "markdown",
   "id": "a4cda65c",
   "metadata": {},
   "source": [
    "## II. Classification Report"
   ]
  },
  {
   "cell_type": "code",
   "execution_count": 39,
   "id": "b495941f",
   "metadata": {},
   "outputs": [
    {
     "name": "stdout",
     "output_type": "stream",
     "text": [
      "              precision    recall  f1-score   support\n",
      "\n",
      "         0.0       0.79      0.88      0.84       147\n",
      "         1.0       0.75      0.60      0.66        84\n",
      "\n",
      "    accuracy                           0.78       231\n",
      "   macro avg       0.77      0.74      0.75       231\n",
      "weighted avg       0.78      0.78      0.77       231\n",
      "\n"
     ]
    }
   ],
   "source": [
    "from sklearn.metrics import classification_report\n",
    "report = classification_report(Y_test, predicted)\n",
    "print(report)"
   ]
  },
  {
   "cell_type": "code",
   "execution_count": null,
   "id": "0f474ce8",
   "metadata": {},
   "outputs": [],
   "source": []
  },
  {
   "cell_type": "code",
   "execution_count": null,
   "id": "f254210b",
   "metadata": {},
   "outputs": [],
   "source": []
  }
 ],
 "metadata": {
  "kernelspec": {
   "display_name": "Python 3",
   "language": "python",
   "name": "python3"
  },
  "language_info": {
   "codemirror_mode": {
    "name": "ipython",
    "version": 3
   },
   "file_extension": ".py",
   "mimetype": "text/x-python",
   "name": "python",
   "nbconvert_exporter": "python",
   "pygments_lexer": "ipython3",
   "version": "3.9.12"
  }
 },
 "nbformat": 4,
 "nbformat_minor": 5
}
