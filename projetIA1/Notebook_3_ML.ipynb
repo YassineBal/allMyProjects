{
 "cells": [
  {
   "cell_type": "markdown",
   "id": "83c03ada",
   "metadata": {},
   "source": [
    "# Spot Check Machine Learning Algorithms - Classification"
   ]
  },
  {
   "cell_type": "code",
   "execution_count": 12,
   "id": "2f3f2fe9",
   "metadata": {},
   "outputs": [
    {
     "name": "stdout",
     "output_type": "stream",
     "text": [
      "LR | Acc: 78.0% (5.0)%\n",
      "LDA | Acc: 77.0% (5.0)%\n",
      "KNN | Acc: 71.0% (5.0)%\n",
      "CART | Acc: 70.0% (5.0)%\n",
      "NB | Acc: 76.0% (4.0)%\n",
      "SVM | Acc: 76.0% (3.0)%\n"
     ]
    },
    {
     "data": {
      "image/png": "[encoded data removed]",
      "text/plain": [
       "<Figure size 432x288 with 1 Axes>"
      ]
     },
     "metadata": {
      "needs_background": "light"
     },
     "output_type": "display_data"
    }
   ],
   "source": [
    "# Compare Algorithms\n",
    "# Import libraries\n",
    "import warnings\n",
    "warnings.filterwarnings('ignore')\n",
    "from pandas import read_csv\n",
    "from matplotlib import pyplot\n",
    "# Machine Learning Module\n",
    "from sklearn.model_selection import KFold, cross_val_score\n",
    "# Machine Learning Algorithm (classifier, model)\n",
    "'''\n",
    "Linear-Algorithms\n",
    "'''\n",
    "from sklearn.linear_model import LogisticRegression\n",
    "from sklearn.discriminant_analysis import LinearDiscriminantAnalysis\n",
    "'''\n",
    "Non-Linear Algorithms\n",
    "'''\n",
    "from sklearn.tree import DecisionTreeClassifier\n",
    "from sklearn.neighbors import KNeighborsClassifier\n",
    "from sklearn.naive_bayes import GaussianNB\n",
    "from sklearn.svm import SVC\n",
    "# ML metrics\n",
    "from sklearn.metrics import confusion_matrix, classification_report\n",
    "filename = './datasets/pima-indians-diabetes.data.csv'\n",
    "col_names = ['preg', 'plas', 'pres', 'skin', 'test', 'mass', 'pedi', 'age', 'class']\n",
    "data = read_csv(filename, names=col_names)\n",
    "# Get values from dataframe\n",
    "array = data.values\n",
    "# Get inputs (all variables except the class)\n",
    "X = array[ : , 0:-1]\n",
    "# Get the output (class)\n",
    "Y = array[ : , -1]\n",
    "# Prepare models\n",
    "models = []\n",
    "models.append(('LR', LogisticRegression()))\n",
    "models.append(('LDA', LinearDiscriminantAnalysis()))\n",
    "models.append(('KNN', KNeighborsClassifier()))\n",
    "models.append(('CART', DecisionTreeClassifier()))\n",
    "models.append(('NB', GaussianNB()))\n",
    "models.append(('SVM', SVC()))\n",
    "# Evaluate each model in turn\n",
    "results = []\n",
    "names = []\n",
    "score = 'accuracy'\n",
    "for name, model in models:\n",
    "    kfold = KFold(n_splits=10, random_state=7, shuffle=True)\n",
    "    cv_results = cross_val_score(model, X, Y, cv=kfold, scoring=score)\n",
    "    results.append(cv_results)\n",
    "    names.append(name)\n",
    "    msg = f'{name} | Acc: {cv_results.mean().round(2)*100.0}% ({cv_results.std().round(2)*100.0})%'\n",
    "    print(msg)\n",
    "# Boxplot algorithm comparison\n",
    "fig = pyplot.figure()\n",
    "fig.suptitle('Algorithm Comparison')\n",
    "ax = fig.add_subplot(111)\n",
    "pyplot.boxplot(results)\n",
    "ax.set_xticklabels(names)\n",
    "pyplot.show()"
   ]
  }
 ],
 "metadata": {
  "kernelspec": {
   "display_name": "Python 3",
   "language": "python",
   "name": "python3"
  },
  "language_info": {
   "codemirror_mode": {
    "name": "ipython",
    "version": 3
   },
   "file_extension": ".py",
   "mimetype": "text/x-python",
   "name": "python",
   "nbconvert_exporter": "python",
   "pygments_lexer": "ipython3",
   "version": "3.9.12"
  }
 },
 "nbformat": 4,
 "nbformat_minor": 5
}
