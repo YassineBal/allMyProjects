{
 "cells": [
  {
   "cell_type": "markdown",
   "id": "a76c6088",
   "metadata": {},
   "source": [
    "<h1><center style='color:blue;'><u> NumPy 1D-2D Arrays</u></center></h1>"
   ]
  },
  {
   "cell_type": "markdown",
   "id": "1f111396",
   "metadata": {},
   "source": [
    "## 1D Array"
   ]
  },
  {
   "cell_type": "code",
   "execution_count": 11,
   "id": "68fd4bc6",
   "metadata": {},
   "outputs": [
    {
     "name": "stdout",
     "output_type": "stream",
     "text": [
      "List elements: [78, 32, 12, 45, 8]\n",
      "Array elements: [78 32 12 45  8]\n",
      "Shape: (5,)\n",
      "Max element: 78\n",
      "Min element: 8\n",
      "Mean/Average: 35.0\n",
      "Max element index: 0\n",
      "Min element index: 4\n",
      "Last element: 8\n",
      "Produit scalaire: [312 128  48 180  32]\n"
     ]
    }
   ],
   "source": [
    "import numpy as np\n",
    "mylist = [78, 32, 12, 45, 8]\n",
    "print(f'List elements: {mylist}')\n",
    "myarray = np.array(mylist)\n",
    "print(f'Array elements: {myarray}')\n",
    "print(f'Shape: {myarray.shape}')\n",
    "print(f'Max element: {myarray.max()}')\n",
    "print(f'Min element: {myarray.min()}')\n",
    "print(f'Mean/Average: {myarray.mean()}')\n",
    "print(f'Max element index: {np.argmax(myarray)}')\n",
    "print(f'Min element index: {np.argmin(myarray)}')\n",
    "print(f'Last element: {myarray[-1]}')\n",
    "print(f'Produit scalaire: {myarray*4}')"
   ]
  },
  {
   "cell_type": "markdown",
   "id": "19017a11",
   "metadata": {},
   "source": [
    "## 2D-Array"
   ]
  },
  {
   "cell_type": "code",
   "execution_count": 33,
   "id": "b70c45a8",
   "metadata": {},
   "outputs": [
    {
     "name": "stdout",
     "output_type": "stream",
     "text": [
      "List elements:\n",
      "--------------\n",
      "[[1, 2, 3], [3, 4, 5]]\n",
      "Array elements:\n",
      "--------------\n",
      "[[1 2 3]\n",
      " [3 4 5]]\n",
      "Shape: (2, 3)\n",
      "Matrix Transpose: [[1 3]\n",
      " [2 4]\n",
      " [3 5]]\n",
      "First row: [1 2 3]\n",
      "Last row: [3 4 5]\n",
      "Specific row and col: 3\n",
      "----------------------------\n",
      "List elements:\n",
      "--------------\n",
      "[[1, 2, 3, 8], [3, 4, 5, 7], [12, 10, 8, 3], [41, 23, 14, 8]]\n",
      "Array elements:\n",
      "--------------\n",
      "[[ 1  2  3  8]\n",
      " [ 3  4  5  7]\n",
      " [12 10  8  3]\n",
      " [41 23 14  8]]\n",
      "Specific rows and cols: [ 3 12 41]\n",
      "Specific rows and cols: [4 5 7]\n"
     ]
    }
   ],
   "source": [
    "# Define array and access its values\n",
    "import numpy as np\n",
    "mylist = [[1, 2, 3], [3, 4, 5]]\n",
    "print(f'List elements:\\n--------------\\n{mylist}')\n",
    "myarray = np.array(mylist)\n",
    "print(f'Array elements:\\n--------------\\n{myarray}')\n",
    "print(f'Shape: {myarray.shape}')\n",
    "print(f'Matrix Transpose: {myarray.T}')\n",
    "print(f'First row: {myarray[0]}')\n",
    "print(f'Last row: {myarray[-1]}')\n",
    "print(f'Specific row and col: {myarray[0, 2]}')\n",
    "print('----------------------------')\n",
    "mylist = [[1, 2, 3, 8], [3, 4, 5, 7], [12, 10, 8, 3], [41, 23, 14, 8]]\n",
    "print(f'List elements:\\n--------------\\n{mylist}')\n",
    "myarray = np.array(mylist)\n",
    "print(f'Array elements:\\n--------------\\n{myarray}')\n",
    "print(f'Specific rows and cols: {myarray[1 : , 0]}')\n",
    "print(f'Specific rows and cols: {myarray[1 , 1:]}')"
   ]
  },
  {
   "cell_type": "markdown",
   "id": "e63668ab",
   "metadata": {},
   "source": [
    "## Series"
   ]
  },
  {
   "cell_type": "code",
   "execution_count": 41,
   "id": "19e0e390",
   "metadata": {},
   "outputs": [
    {
     "name": "stdout",
     "output_type": "stream",
     "text": [
      "Series elements:\n",
      "Jan    23\n",
      "Feb    19\n",
      "Mar    24\n",
      "Apr    16\n",
      "May    25\n",
      "dtype: int32\n",
      "First element:23\n",
      "First element:23\n"
     ]
    }
   ],
   "source": [
    "# Series: a 1D-array of data where the rows are labeled using time axis\n",
    "import numpy as np\n",
    "import pandas as pd\n",
    "mylist = [23, 19, 24, 16, 25]\n",
    "rownames = ['Jan', 'Feb', 'Mar', 'Apr', 'May']\n",
    "myarray = np.array(mylist)\n",
    "myseries = pd.Series(myarray, index=rownames)\n",
    "print(f'Series elements:\\n{myseries}')\n",
    "print(f'First element:{myseries[0]}')\n",
    "print(f'First element:{myseries[\"Jan\"]}')"
   ]
  },
  {
   "cell_type": "markdown",
   "id": "ed354bce",
   "metadata": {},
   "source": [
    "## Dataframe"
   ]
  },
  {
   "cell_type": "code",
   "execution_count": 53,
   "id": "051795bf",
   "metadata": {},
   "outputs": [
    {
     "name": "stdout",
     "output_type": "stream",
     "text": [
      "Dataframe elements:\n",
      "         Note_1  Note_2  Note_3\n",
      "Fernand       9      10       8\n",
      "Marc          8       9       5\n",
      "Steve         4       7       2\n",
      "First column:\n",
      "Fernand    9\n",
      "Marc       8\n",
      "Steve      4\n",
      "Name: Note_1, dtype: int32\n",
      "First column:\n",
      "Fernand    9\n",
      "Marc       8\n",
      "Steve      4\n",
      "Name: Note_1, dtype: int32\n",
      "Note_1 and Note_2 columns:\n",
      "         Note_1  Note_2\n",
      "Fernand       9      10\n",
      "Marc          8       9\n",
      "Steve         4       7\n",
      "Note_1     9\n",
      "Note_2    10\n",
      "Note_3     8\n",
      "Name: Fernand, dtype: int32\n",
      "8\n"
     ]
    }
   ],
   "source": [
    "# Dataframe: a multi-dimension array of data where the rows and cols can be labeled\n",
    "import numpy as np\n",
    "import pandas as pd\n",
    "mylist = [[9, 10, 8], [8, 9, 5], [4, 7, 2]]\n",
    "rownames = ['Fernand', 'Marc', 'Steve']\n",
    "colnames = ['Note_1', 'Note_2', 'Note_3']\n",
    "myarray = np.array(mylist)\n",
    "mydataframe = pd.DataFrame(myarray, index=rownames, columns=colnames)\n",
    "print(f'Dataframe elements:\\n{mydataframe}')\n",
    "print(f'First column:\\n{mydataframe[\"Note_1\"]}')\n",
    "print(f'First column:\\n{mydataframe.Note_1}')\n",
    "print(f'Note_1 and Note_2 columns:\\n{mydataframe[[\"Note_1\", \"Note_2\"]]}')\n",
    "print(mydataframe.iloc[0])\n",
    "print(mydataframe.Note_3[\"Fernand\"])"
   ]
  }
 ],
 "metadata": {
  "kernelspec": {
   "display_name": "Python 3",
   "language": "python",
   "name": "python3"
  },
  "language_info": {
   "codemirror_mode": {
    "name": "ipython",
    "version": 3
   },
   "file_extension": ".py",
   "mimetype": "text/x-python",
   "name": "python",
   "nbconvert_exporter": "python",
   "pygments_lexer": "ipython3",
   "version": "3.9.12"
  }
 },
 "nbformat": 4,
 "nbformat_minor": 5
}
