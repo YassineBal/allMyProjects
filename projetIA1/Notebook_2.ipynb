{
 "cells": [
  {
   "cell_type": "markdown",
   "id": "04091962",
   "metadata": {},
   "source": [
    "<h1><center> Load File for Analysis </center></h1>"
   ]
  },
  {
   "cell_type": "markdown",
   "id": "4b954c03",
   "metadata": {},
   "source": [
    "## I. Load CSV File using Python Standard Library"
   ]
  },
  {
   "cell_type": "code",
   "execution_count": 7,
   "id": "b5ddb3b9",
   "metadata": {},
   "outputs": [
    {
     "name": "stdout",
     "output_type": "stream",
     "text": [
      "[[  6.    148.     72.    ...   0.627  50.      1.   ]\n",
      " [  1.     85.     66.    ...   0.351  31.      0.   ]\n",
      " [  8.    183.     64.    ...   0.672  32.      1.   ]\n",
      " ...\n",
      " [  5.    121.     72.    ...   0.245  30.      0.   ]\n",
      " [  1.    126.     60.    ...   0.349  47.      1.   ]\n",
      " [  1.     93.     70.    ...   0.315  23.      0.   ]]\n",
      "Shape: (768, 9)\n"
     ]
    }
   ],
   "source": [
    "import csv\n",
    "import numpy as np\n",
    "filename = '../datasets/pima-indians-diabetes.data.csv'\n",
    "raw_data = open(filename, 'rt')\n",
    "# print(raw_data)\n",
    "reader = csv.reader(raw_data, delimiter=',', quoting=csv.QUOTE_NONE)\n",
    "#print(reader)\n",
    "x = list(reader)\n",
    "data = np.array(x).astype('float')\n",
    "print(data)\n",
    "print(f'Shape: {data.shape}')"
   ]
  },
  {
   "cell_type": "markdown",
   "id": "79542cda",
   "metadata": {},
   "source": [
    "## II. Load CSV File using NumPy"
   ]
  },
  {
   "cell_type": "code",
   "execution_count": 9,
   "id": "6a298047",
   "metadata": {},
   "outputs": [
    {
     "name": "stdout",
     "output_type": "stream",
     "text": [
      "[[  6.    148.     72.    ...   0.627  50.      1.   ]\n",
      " [  1.     85.     66.    ...   0.351  31.      0.   ]\n",
      " [  8.    183.     64.    ...   0.672  32.      1.   ]\n",
      " ...\n",
      " [  5.    121.     72.    ...   0.245  30.      0.   ]\n",
      " [  1.    126.     60.    ...   0.349  47.      1.   ]\n",
      " [  1.     93.     70.    ...   0.315  23.      0.   ]]\n",
      "Shape: (768, 9)\n"
     ]
    }
   ],
   "source": [
    "from numpy import loadtxt\n",
    "filename = '../datasets/pima-indians-diabetes.data.csv'\n",
    "raw_data = open(filename, 'rt')\n",
    "data = loadtxt(raw_data, delimiter=\",\")\n",
    "print(data)\n",
    "print(f'Shape: {data.shape}')"
   ]
  },
  {
   "cell_type": "code",
   "execution_count": 11,
   "id": "d39afed0",
   "metadata": {},
   "outputs": [
    {
     "name": "stdout",
     "output_type": "stream",
     "text": [
      "[[  6.    148.     72.    ...   0.627  50.      1.   ]\n",
      " [  1.     85.     66.    ...   0.351  31.      0.   ]\n",
      " [  8.    183.     64.    ...   0.672  32.      1.   ]\n",
      " ...\n",
      " [  5.    121.     72.    ...   0.245  30.      0.   ]\n",
      " [  1.    126.     60.    ...   0.349  47.      1.   ]\n",
      " [  1.     93.     70.    ...   0.315  23.      0.   ]]\n",
      "Shape: (768, 9)\n"
     ]
    }
   ],
   "source": [
    "from numpy import loadtxt\n",
    "from urllib.request import urlopen\n",
    "url = 'https://goo.gl/bDdBiA'\n",
    "raw_data = urlopen(url)\n",
    "data = loadtxt(raw_data, delimiter=\",\")\n",
    "print(data)\n",
    "print(f'Shape: {data.shape}')"
   ]
  },
  {
   "cell_type": "markdown",
   "id": "d2f81509",
   "metadata": {},
   "source": [
    "## III. Load CSV File using Pandas"
   ]
  },
  {
   "cell_type": "code",
   "execution_count": 19,
   "id": "c22dced3",
   "metadata": {},
   "outputs": [
    {
     "name": "stdout",
     "output_type": "stream",
     "text": [
      "Shape: (768, 9)\n",
      "      0    1   2   3    4     5      6   7  8\n",
      "0     6  148  72  35    0  33.6  0.627  50  1\n",
      "1     1   85  66  29    0  26.6  0.351  31  0\n",
      "2     8  183  64   0    0  23.3  0.672  32  1\n",
      "3     1   89  66  23   94  28.1  0.167  21  0\n",
      "4     0  137  40  35  168  43.1  2.288  33  1\n",
      "..   ..  ...  ..  ..  ...   ...    ...  .. ..\n",
      "763  10  101  76  48  180  32.9  0.171  63  0\n",
      "764   2  122  70  27    0  36.8  0.340  27  0\n",
      "765   5  121  72  23  112  26.2  0.245  30  0\n",
      "766   1  126  60   0    0  30.1  0.349  47  1\n",
      "767   1   93  70  31    0  30.4  0.315  23  0\n",
      "\n",
      "[768 rows x 9 columns]\n"
     ]
    }
   ],
   "source": [
    "from pandas import read_csv\n",
    "filename = '../datasets/pima-indians-diabetes.data.csv'\n",
    "data = read_csv(filename, header=None)\n",
    "print(f'Shape: {data.shape}')\n",
    "print(data)"
   ]
  },
  {
   "cell_type": "code",
   "execution_count": 21,
   "id": "03008ae4",
   "metadata": {},
   "outputs": [
    {
     "name": "stdout",
     "output_type": "stream",
     "text": [
      "Shape: (768, 9)\n",
      "     preg  plas  pres  skin  test   mas   pedi  age  class\n",
      "0       6   148    72    35     0  33.6  0.627   50      1\n",
      "1       1    85    66    29     0  26.6  0.351   31      0\n",
      "2       8   183    64     0     0  23.3  0.672   32      1\n",
      "3       1    89    66    23    94  28.1  0.167   21      0\n",
      "4       0   137    40    35   168  43.1  2.288   33      1\n",
      "..    ...   ...   ...   ...   ...   ...    ...  ...    ...\n",
      "763    10   101    76    48   180  32.9  0.171   63      0\n",
      "764     2   122    70    27     0  36.8  0.340   27      0\n",
      "765     5   121    72    23   112  26.2  0.245   30      0\n",
      "766     1   126    60     0     0  30.1  0.349   47      1\n",
      "767     1    93    70    31     0  30.4  0.315   23      0\n",
      "\n",
      "[768 rows x 9 columns]\n"
     ]
    }
   ],
   "source": [
    "from pandas import read_csv\n",
    "url = 'https://goo.gl/bDdBiA'\n",
    "col_names = ['preg', 'plas', 'pres', 'skin', 'test', 'mas', 'pedi', 'age', 'class']\n",
    "data = read_csv(url, names=col_names)\n",
    "print(f'Shape: {data.shape}')\n",
    "print(data)"
   ]
  }
 ],
 "metadata": {
  "kernelspec": {
   "display_name": "Python 3",
   "language": "python",
   "name": "python3"
  },
  "language_info": {
   "codemirror_mode": {
    "name": "ipython",
    "version": 3
   },
   "file_extension": ".py",
   "mimetype": "text/x-python",
   "name": "python",
   "nbconvert_exporter": "python",
   "pygments_lexer": "ipython3",
   "version": "3.9.12"
  }
 },
 "nbformat": 4,
 "nbformat_minor": 5
}
